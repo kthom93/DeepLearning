{
  "nbformat": 4,
  "nbformat_minor": 0,
  "metadata": {
    "colab": {
      "name": "SNOM2.ipynb",
      "provenance": [],
      "collapsed_sections": [],
      "authorship_tag": "ABX9TyOFF8RnUf8TAG+paJxMzu0d",
      "include_colab_link": true
    },
    "kernelspec": {
      "name": "python3",
      "display_name": "Python 3"
    },
    "accelerator": "GPU",
    "widgets": {
      "application/vnd.jupyter.widget-state+json": {
        "83b5018a2fc848fda256ce4dbf2849a5": {
          "model_module": "@jupyter-widgets/controls",
          "model_name": "HBoxModel",
          "state": {
            "_view_name": "HBoxView",
            "_dom_classes": [],
            "_model_name": "HBoxModel",
            "_view_module": "@jupyter-widgets/controls",
            "_model_module_version": "1.5.0",
            "_view_count": null,
            "_view_module_version": "1.5.0",
            "box_style": "",
            "layout": "IPY_MODEL_3c5631afd26e475ebeb156c946d2a86f",
            "_model_module": "@jupyter-widgets/controls",
            "children": [
              "IPY_MODEL_833b1d9f441c4fcb9d39f96fc8278e2c",
              "IPY_MODEL_6700cfc5fc2b4d358a90cd20bb2dfce0"
            ]
          }
        },
        "3c5631afd26e475ebeb156c946d2a86f": {
          "model_module": "@jupyter-widgets/base",
          "model_name": "LayoutModel",
          "state": {
            "_view_name": "LayoutView",
            "grid_template_rows": null,
            "right": null,
            "justify_content": null,
            "_view_module": "@jupyter-widgets/base",
            "overflow": null,
            "_model_module_version": "1.2.0",
            "_view_count": null,
            "flex_flow": null,
            "width": null,
            "min_width": null,
            "border": null,
            "align_items": null,
            "bottom": null,
            "_model_module": "@jupyter-widgets/base",
            "top": null,
            "grid_column": null,
            "overflow_y": null,
            "overflow_x": null,
            "grid_auto_flow": null,
            "grid_area": null,
            "grid_template_columns": null,
            "flex": null,
            "_model_name": "LayoutModel",
            "justify_items": null,
            "grid_row": null,
            "max_height": null,
            "align_content": null,
            "visibility": null,
            "align_self": null,
            "height": null,
            "min_height": null,
            "padding": null,
            "grid_auto_rows": null,
            "grid_gap": null,
            "max_width": null,
            "order": null,
            "_view_module_version": "1.2.0",
            "grid_template_areas": null,
            "object_position": null,
            "object_fit": null,
            "grid_auto_columns": null,
            "margin": null,
            "display": null,
            "left": null
          }
        },
        "833b1d9f441c4fcb9d39f96fc8278e2c": {
          "model_module": "@jupyter-widgets/controls",
          "model_name": "IntProgressModel",
          "state": {
            "_view_name": "ProgressView",
            "style": "IPY_MODEL_4cb7109fbdda4a4abef52562df5c661e",
            "_dom_classes": [],
            "description": "",
            "_model_name": "IntProgressModel",
            "bar_style": "info",
            "max": 1,
            "_view_module": "@jupyter-widgets/controls",
            "_model_module_version": "1.5.0",
            "value": 1,
            "_view_count": null,
            "_view_module_version": "1.5.0",
            "orientation": "horizontal",
            "min": 0,
            "description_tooltip": null,
            "_model_module": "@jupyter-widgets/controls",
            "layout": "IPY_MODEL_25419f16a8a844d58dd951a2ebd861ac"
          }
        },
        "6700cfc5fc2b4d358a90cd20bb2dfce0": {
          "model_module": "@jupyter-widgets/controls",
          "model_name": "HTMLModel",
          "state": {
            "_view_name": "HTMLView",
            "style": "IPY_MODEL_6b5ec73c6e2b4a6ea1f6134c7d2f354a",
            "_dom_classes": [],
            "description": "",
            "_model_name": "HTMLModel",
            "placeholder": "​",
            "_view_module": "@jupyter-widgets/controls",
            "_model_module_version": "1.5.0",
            "value": " 170500096/? [00:20&lt;00:00, 52475258.02it/s]",
            "_view_count": null,
            "_view_module_version": "1.5.0",
            "description_tooltip": null,
            "_model_module": "@jupyter-widgets/controls",
            "layout": "IPY_MODEL_a4eca9948584423e8d04c4394e6d7856"
          }
        },
        "4cb7109fbdda4a4abef52562df5c661e": {
          "model_module": "@jupyter-widgets/controls",
          "model_name": "ProgressStyleModel",
          "state": {
            "_view_name": "StyleView",
            "_model_name": "ProgressStyleModel",
            "description_width": "initial",
            "_view_module": "@jupyter-widgets/base",
            "_model_module_version": "1.5.0",
            "_view_count": null,
            "_view_module_version": "1.2.0",
            "bar_color": null,
            "_model_module": "@jupyter-widgets/controls"
          }
        },
        "25419f16a8a844d58dd951a2ebd861ac": {
          "model_module": "@jupyter-widgets/base",
          "model_name": "LayoutModel",
          "state": {
            "_view_name": "LayoutView",
            "grid_template_rows": null,
            "right": null,
            "justify_content": null,
            "_view_module": "@jupyter-widgets/base",
            "overflow": null,
            "_model_module_version": "1.2.0",
            "_view_count": null,
            "flex_flow": null,
            "width": null,
            "min_width": null,
            "border": null,
            "align_items": null,
            "bottom": null,
            "_model_module": "@jupyter-widgets/base",
            "top": null,
            "grid_column": null,
            "overflow_y": null,
            "overflow_x": null,
            "grid_auto_flow": null,
            "grid_area": null,
            "grid_template_columns": null,
            "flex": null,
            "_model_name": "LayoutModel",
            "justify_items": null,
            "grid_row": null,
            "max_height": null,
            "align_content": null,
            "visibility": null,
            "align_self": null,
            "height": null,
            "min_height": null,
            "padding": null,
            "grid_auto_rows": null,
            "grid_gap": null,
            "max_width": null,
            "order": null,
            "_view_module_version": "1.2.0",
            "grid_template_areas": null,
            "object_position": null,
            "object_fit": null,
            "grid_auto_columns": null,
            "margin": null,
            "display": null,
            "left": null
          }
        },
        "6b5ec73c6e2b4a6ea1f6134c7d2f354a": {
          "model_module": "@jupyter-widgets/controls",
          "model_name": "DescriptionStyleModel",
          "state": {
            "_view_name": "StyleView",
            "_model_name": "DescriptionStyleModel",
            "description_width": "",
            "_view_module": "@jupyter-widgets/base",
            "_model_module_version": "1.5.0",
            "_view_count": null,
            "_view_module_version": "1.2.0",
            "_model_module": "@jupyter-widgets/controls"
          }
        },
        "a4eca9948584423e8d04c4394e6d7856": {
          "model_module": "@jupyter-widgets/base",
          "model_name": "LayoutModel",
          "state": {
            "_view_name": "LayoutView",
            "grid_template_rows": null,
            "right": null,
            "justify_content": null,
            "_view_module": "@jupyter-widgets/base",
            "overflow": null,
            "_model_module_version": "1.2.0",
            "_view_count": null,
            "flex_flow": null,
            "width": null,
            "min_width": null,
            "border": null,
            "align_items": null,
            "bottom": null,
            "_model_module": "@jupyter-widgets/base",
            "top": null,
            "grid_column": null,
            "overflow_y": null,
            "overflow_x": null,
            "grid_auto_flow": null,
            "grid_area": null,
            "grid_template_columns": null,
            "flex": null,
            "_model_name": "LayoutModel",
            "justify_items": null,
            "grid_row": null,
            "max_height": null,
            "align_content": null,
            "visibility": null,
            "align_self": null,
            "height": null,
            "min_height": null,
            "padding": null,
            "grid_auto_rows": null,
            "grid_gap": null,
            "max_width": null,
            "order": null,
            "_view_module_version": "1.2.0",
            "grid_template_areas": null,
            "object_position": null,
            "object_fit": null,
            "grid_auto_columns": null,
            "margin": null,
            "display": null,
            "left": null
          }
        },
        "e7c32b46004b4bb2bfa72247984bb056": {
          "model_module": "@jupyter-widgets/controls",
          "model_name": "HBoxModel",
          "state": {
            "_view_name": "HBoxView",
            "_dom_classes": [],
            "_model_name": "HBoxModel",
            "_view_module": "@jupyter-widgets/controls",
            "_model_module_version": "1.5.0",
            "_view_count": null,
            "_view_module_version": "1.5.0",
            "box_style": "",
            "layout": "IPY_MODEL_3618805e0ca74ea0bff68f1cb6148914",
            "_model_module": "@jupyter-widgets/controls",
            "children": [
              "IPY_MODEL_b36f643a8738442fab32cc2d4c072d6f",
              "IPY_MODEL_f7ef029b215c4eccaf85843d6061774d"
            ]
          }
        },
        "3618805e0ca74ea0bff68f1cb6148914": {
          "model_module": "@jupyter-widgets/base",
          "model_name": "LayoutModel",
          "state": {
            "_view_name": "LayoutView",
            "grid_template_rows": null,
            "right": null,
            "justify_content": null,
            "_view_module": "@jupyter-widgets/base",
            "overflow": null,
            "_model_module_version": "1.2.0",
            "_view_count": null,
            "flex_flow": null,
            "width": null,
            "min_width": null,
            "border": null,
            "align_items": null,
            "bottom": null,
            "_model_module": "@jupyter-widgets/base",
            "top": null,
            "grid_column": null,
            "overflow_y": null,
            "overflow_x": null,
            "grid_auto_flow": null,
            "grid_area": null,
            "grid_template_columns": null,
            "flex": null,
            "_model_name": "LayoutModel",
            "justify_items": null,
            "grid_row": null,
            "max_height": null,
            "align_content": null,
            "visibility": null,
            "align_self": null,
            "height": null,
            "min_height": null,
            "padding": null,
            "grid_auto_rows": null,
            "grid_gap": null,
            "max_width": null,
            "order": null,
            "_view_module_version": "1.2.0",
            "grid_template_areas": null,
            "object_position": null,
            "object_fit": null,
            "grid_auto_columns": null,
            "margin": null,
            "display": null,
            "left": null
          }
        },
        "b36f643a8738442fab32cc2d4c072d6f": {
          "model_module": "@jupyter-widgets/controls",
          "model_name": "IntProgressModel",
          "state": {
            "_view_name": "ProgressView",
            "style": "IPY_MODEL_981b2daabbae4ef1bf9c37017838139e",
            "_dom_classes": [],
            "description": "",
            "_model_name": "IntProgressModel",
            "bar_style": "info",
            "max": 1,
            "_view_module": "@jupyter-widgets/controls",
            "_model_module_version": "1.5.0",
            "value": 1,
            "_view_count": null,
            "_view_module_version": "1.5.0",
            "orientation": "horizontal",
            "min": 0,
            "description_tooltip": null,
            "_model_module": "@jupyter-widgets/controls",
            "layout": "IPY_MODEL_403b7ec9c2d74b74844f2abb048c2161"
          }
        },
        "f7ef029b215c4eccaf85843d6061774d": {
          "model_module": "@jupyter-widgets/controls",
          "model_name": "HTMLModel",
          "state": {
            "_view_name": "HTMLView",
            "style": "IPY_MODEL_84310d83674c4dbaa7b1c460414b90d9",
            "_dom_classes": [],
            "description": "",
            "_model_name": "HTMLModel",
            "placeholder": "​",
            "_view_module": "@jupyter-widgets/controls",
            "_model_module_version": "1.5.0",
            "value": " 170500096/? [00:23&lt;00:00, 53096740.81it/s]",
            "_view_count": null,
            "_view_module_version": "1.5.0",
            "description_tooltip": null,
            "_model_module": "@jupyter-widgets/controls",
            "layout": "IPY_MODEL_4b93c82a64a744e4a75158405854ba87"
          }
        },
        "981b2daabbae4ef1bf9c37017838139e": {
          "model_module": "@jupyter-widgets/controls",
          "model_name": "ProgressStyleModel",
          "state": {
            "_view_name": "StyleView",
            "_model_name": "ProgressStyleModel",
            "description_width": "initial",
            "_view_module": "@jupyter-widgets/base",
            "_model_module_version": "1.5.0",
            "_view_count": null,
            "_view_module_version": "1.2.0",
            "bar_color": null,
            "_model_module": "@jupyter-widgets/controls"
          }
        },
        "403b7ec9c2d74b74844f2abb048c2161": {
          "model_module": "@jupyter-widgets/base",
          "model_name": "LayoutModel",
          "state": {
            "_view_name": "LayoutView",
            "grid_template_rows": null,
            "right": null,
            "justify_content": null,
            "_view_module": "@jupyter-widgets/base",
            "overflow": null,
            "_model_module_version": "1.2.0",
            "_view_count": null,
            "flex_flow": null,
            "width": null,
            "min_width": null,
            "border": null,
            "align_items": null,
            "bottom": null,
            "_model_module": "@jupyter-widgets/base",
            "top": null,
            "grid_column": null,
            "overflow_y": null,
            "overflow_x": null,
            "grid_auto_flow": null,
            "grid_area": null,
            "grid_template_columns": null,
            "flex": null,
            "_model_name": "LayoutModel",
            "justify_items": null,
            "grid_row": null,
            "max_height": null,
            "align_content": null,
            "visibility": null,
            "align_self": null,
            "height": null,
            "min_height": null,
            "padding": null,
            "grid_auto_rows": null,
            "grid_gap": null,
            "max_width": null,
            "order": null,
            "_view_module_version": "1.2.0",
            "grid_template_areas": null,
            "object_position": null,
            "object_fit": null,
            "grid_auto_columns": null,
            "margin": null,
            "display": null,
            "left": null
          }
        },
        "84310d83674c4dbaa7b1c460414b90d9": {
          "model_module": "@jupyter-widgets/controls",
          "model_name": "DescriptionStyleModel",
          "state": {
            "_view_name": "StyleView",
            "_model_name": "DescriptionStyleModel",
            "description_width": "",
            "_view_module": "@jupyter-widgets/base",
            "_model_module_version": "1.5.0",
            "_view_count": null,
            "_view_module_version": "1.2.0",
            "_model_module": "@jupyter-widgets/controls"
          }
        },
        "4b93c82a64a744e4a75158405854ba87": {
          "model_module": "@jupyter-widgets/base",
          "model_name": "LayoutModel",
          "state": {
            "_view_name": "LayoutView",
            "grid_template_rows": null,
            "right": null,
            "justify_content": null,
            "_view_module": "@jupyter-widgets/base",
            "overflow": null,
            "_model_module_version": "1.2.0",
            "_view_count": null,
            "flex_flow": null,
            "width": null,
            "min_width": null,
            "border": null,
            "align_items": null,
            "bottom": null,
            "_model_module": "@jupyter-widgets/base",
            "top": null,
            "grid_column": null,
            "overflow_y": null,
            "overflow_x": null,
            "grid_auto_flow": null,
            "grid_area": null,
            "grid_template_columns": null,
            "flex": null,
            "_model_name": "LayoutModel",
            "justify_items": null,
            "grid_row": null,
            "max_height": null,
            "align_content": null,
            "visibility": null,
            "align_self": null,
            "height": null,
            "min_height": null,
            "padding": null,
            "grid_auto_rows": null,
            "grid_gap": null,
            "max_width": null,
            "order": null,
            "_view_module_version": "1.2.0",
            "grid_template_areas": null,
            "object_position": null,
            "object_fit": null,
            "grid_auto_columns": null,
            "margin": null,
            "display": null,
            "left": null
          }
        }
      }
    }
  },
  "cells": [
    {
      "cell_type": "markdown",
      "metadata": {
        "id": "view-in-github",
        "colab_type": "text"
      },
      "source": [
        "<a href=\"https://colab.research.google.com/github/kthom93/DeepLearning/blob/master/SNOM2.ipynb\" target=\"_parent\"><img src=\"https://colab.research.google.com/assets/colab-badge.svg\" alt=\"Open In Colab\"/></a>"
      ]
    },
    {
      "cell_type": "code",
      "metadata": {
        "id": "NQB1uQEbzeM6",
        "colab_type": "code",
        "colab": {}
      },
      "source": [
        "import gc\n",
        "import torch\n",
        "import torch.nn as nn\n",
        "import torch.nn.functional as F\n",
        "import torch.optim as optim\n",
        "import torchvision\n",
        "import torchvision.transforms as transforms\n",
        "import numpy as np\n",
        "import matplotlib.pyplot as plt\n",
        "import tqdm\n",
        "\n",
        "\n",
        "from torch.utils.data import Dataset, DataLoader\n",
        "from tqdm import tqdm\n",
        "from random import shuffle"
      ],
      "execution_count": 0,
      "outputs": []
    },
    {
      "cell_type": "code",
      "metadata": {
        "id": "ja_FdqgG3i3p",
        "colab_type": "code",
        "colab": {}
      },
      "source": [
        "class ObjectDataset(Dataset):\n",
        "  def __init__(self, classes, transform=None):\n",
        "    self.classes = classes\n",
        "    self.num_classes = len(classes)\n",
        "    self.tensor_transform = transforms.ToTensor()\n",
        "  \n",
        "  def __getitem__(self, index):\n",
        "    target = np.random.randint(2)\n",
        "\n",
        "    num = np.random.randint(num_classes)\n",
        "    img1 = self.tensor_transform(self.classes[num][np.random.randint(len(self.classes[num]))])\n",
        "    if target:\n",
        "      prev = num\n",
        "      while(num == prev):\n",
        "        num = np.random.randint(num_classes)\n",
        "    img2 = self.tensor_transform(self.classes[num][np.random.randint(len(self.classes[num]))])\n",
        "\n",
        "    return img1, img2, target\n",
        "  \n",
        "  def __len__(self):\n",
        "    return len(self.classes[0] * self.num_classes)\n",
        "  \n",
        "  def getItemByClass(self, cl):\n",
        "    return self.tensor_transform(self.classes[cl][np.random.randint(len(self.classes[cl]))])"
      ],
      "execution_count": 0,
      "outputs": []
    },
    {
      "cell_type": "code",
      "metadata": {
        "id": "W34B7GJc3koV",
        "colab_type": "code",
        "colab": {}
      },
      "source": [
        "class SiameseNetwork(nn.Module):\n",
        "  def __init__(self):\n",
        "    super(SiameseNetwork, self).__init__()\n",
        "    self.conv1 = nn.Sequential(\n",
        "        nn.Conv2d(3, 64, 5, 1, 2),\n",
        "        nn.ReLU(),\n",
        "        nn.BatchNorm2d(64),\n",
        "        nn.MaxPool2d(2, 2)\n",
        "    )\n",
        "    self.conv2 = nn.Sequential(\n",
        "        nn.Conv2d(64, 128, 5, 1, 2),\n",
        "        nn.ReLU(),\n",
        "        nn.BatchNorm2d(128),\n",
        "        nn.MaxPool2d(2, 2),\n",
        "    )\n",
        "    self.conv3 = nn.Sequential(\n",
        "        nn.Conv2d(128, 256, 3, 1, 1),\n",
        "        nn.ReLU(),\n",
        "        nn.BatchNorm2d(256),\n",
        "        nn.MaxPool2d(2, 2)\n",
        "    )\n",
        "    self.conv4 = nn.Sequential(\n",
        "        nn.Conv2d(256, 512, 3, 1, 1),\n",
        "        nn.ReLU(),\n",
        "        nn.BatchNorm2d(512)\n",
        "    )\n",
        "    self.final = nn.Sequential(\n",
        "        nn.Linear(8192, 256),\n",
        "        nn.ReLU(),\n",
        "        nn.BatchNorm1d(256)\n",
        "    )\n",
        "\n",
        "  def forward_once(self, x):\n",
        "    out = self.conv1(x)\n",
        "    out = self.conv2(out)\n",
        "    out = self.conv3(out)\n",
        "    out = self.conv4(out)\n",
        "    out = out.view(out.size(0), -1)\n",
        "    return self.final(out)\n",
        "\n",
        "  def vectorize(self, x):\n",
        "    out = self.conv1(x)\n",
        "    out = self.conv2(out)\n",
        "    out = self.conv3(out)\n",
        "    out = self.conv4(out)\n",
        "    out = out.view(out.size(0), -1)\n",
        "    out = torch.cat((out, out))\n",
        "    print(out)\n",
        "    return self.final(out)\n",
        "\n",
        "  def forward(self, x1, x2):\n",
        "    out1 = self.forward_once(x1)\n",
        "    out2 = self.forward_once(x2)\n",
        "    return out1, out2"
      ],
      "execution_count": 0,
      "outputs": []
    },
    {
      "cell_type": "code",
      "metadata": {
        "id": "VeGOErCK7eZI",
        "colab_type": "code",
        "colab": {}
      },
      "source": [
        "def getEmptyClassList(dataset_len=10):\n",
        "  classes = []\n",
        "  for i in range(dataset_len):\n",
        "    classes.append([])\n",
        "  return classes\n",
        "\n",
        "def loadClasses(data, num_classes, dataset_len=10):\n",
        "  classes = getEmptyClassList(dataset_len)\n",
        "\n",
        "  for im, c in data:\n",
        "    classes[c].append(im)\n",
        "\n",
        "  # shuffle(classes)\n",
        "\n",
        "  return classes[:num_classes]"
      ],
      "execution_count": 0,
      "outputs": []
    },
    {
      "cell_type": "code",
      "metadata": {
        "id": "gpLuqWrg4gyN",
        "colab_type": "code",
        "colab": {}
      },
      "source": [
        "def testModelNumbers(model, test_loader, num_classes=8, tests=100):\n",
        "  data_iter = iter(test_loader)\n",
        "  scores = [[],[]]\n",
        "  for i in range(tests):\n",
        "    img1, img2, label = next(data_iter)\n",
        "    out1, out2 = model(img1.cuda(), img2.cuda())\n",
        "    comb = torch.cat((img1, img2), 3).squeeze(0).numpy()\n",
        "    comb = np.transpose(comb, (1,2,0))\n",
        "    score = F.pairwise_distance(out1, out2)\n",
        "    if label:\n",
        "      scores[0].append(score.item())\n",
        "    else:\n",
        "      scores[1].append(score.item())\n",
        "  return (sum(scores[1]) / len(scores[1])) - (sum(scores[0]) / len(scores[0]))\n",
        "  # print('Same Scores Average: ' + str(sum(scores[0]) / len(scores[0])))\n",
        "  # print('Different Scores Average: ' + str(sum(scores[1]) / len(scores[1])))\n",
        "\n",
        "\n",
        "# def testModelPictures(model, test_loader, num_classes=8, tests=10):\n",
        "#   data_iter = iter(test_loader)\n",
        "#   for i in range(tests):\n",
        "#     img1, img2, label = next(data_iter)\n",
        "#     out1, out2 = model(img1.cuda(), img2.cuda())\n",
        "#     comb = torch.cat((img1, img2), 3).squeeze(0).numpy()\n",
        "#     comb = np.transpose(comb, (1,2,0))\n",
        "#     score = F.pairwise_distance(out1, out2)\n",
        "#     plt.figure(figsize=(10,10))\n",
        "#     plt.imshow(comb)\n",
        "#     if label:\n",
        "#       addition = ' Same Class'\n",
        "#     else:\n",
        "#       addition = ' Different Class'\n",
        "#     plt.title('Dissimilarity Score: {:.2f}'.format(score.item()) + addition)"
      ],
      "execution_count": 0,
      "outputs": []
    },
    {
      "cell_type": "code",
      "metadata": {
        "id": "q72vwPPt5RqQ",
        "colab_type": "code",
        "colab": {}
      },
      "source": [
        "def cifar10Loaders(batch_size, num_classes):\n",
        "  cifar10_train_dataset = torchvision.datasets.CIFAR10(root='./data/cifar10/training/', train=True, download=True)\n",
        "  cifar10_val_dataset = torchvision.datasets.CIFAR10(root='./data/cifar10/testing/', train=False, download=True)\n",
        "\n",
        "  train_classes = loadClasses(cifar10_train_dataset, num_classes)\n",
        "  val_classes = loadClasses(cifar10_val_dataset, num_classes)\n",
        "  test_classes = loadClasses(cifar10_val_dataset, 10)\n",
        "\n",
        "  train_dataset = ObjectDataset(train_classes)\n",
        "  val_dataset = ObjectDataset(val_classes)\n",
        "  test_dataset = ObjectDataset(test_classes)\n",
        "\n",
        "  train_loader = DataLoader(train_dataset,\n",
        "                            batch_size=batch_size,\n",
        "                            shuffle=True)\n",
        "  val_loader = DataLoader(val_dataset,\n",
        "                          batch_size=batch_size)\n",
        "  # test_loader = DataLoader(test_dataset,\n",
        "  #                         batch_size=1,\n",
        "  #                         shuffle=True)\n",
        "  return train_loader, val_loader, test_dataset\n",
        "\n",
        "def imageNetLoaders(batch_size, num_classes):\n",
        "  image_net_train_dataset = torchvision.datasets.ImageNet(root='./data/imageNet/training/', split='train', download=True)\n",
        "  image_net_val_dataset = torchvision.datasets.ImageNet(root='./data/imageNet/testing/', split='val', download=True)\n",
        "\n",
        "  image_net_train_dataset[0]\n",
        "\n",
        "def STL10Loaders(batch_size, num_classes):\n",
        "  STL10_train_dataset = torchvision.datasets.STL10(root='./data/STL10/training/', split='train', download=True)\n",
        "  STL10_dataset = torchvision.datasets.STL10(root='./data/STL10/testing/', split='test', download=True)\n",
        "\n",
        "  STL10_train_dataset[0]"
      ],
      "execution_count": 0,
      "outputs": []
    },
    {
      "cell_type": "code",
      "metadata": {
        "id": "41E727gd4g0u",
        "colab_type": "code",
        "colab": {}
      },
      "source": [
        "def validate(val_loader, model, objective, sig):\n",
        "  losses = []\n",
        "  scores = []\n",
        "\n",
        "  for i, data in enumerate(val_loader):\n",
        "    img1 , img2, target = data\n",
        "    img1, img2, target = img1.cuda(), img2.cuda(), target.cuda()\n",
        "\n",
        "    out1, out2 = model(img1, img2)\n",
        "\n",
        "    dist = F.pairwise_distance(out1, out2, keepdim=True).squeeze(1)\n",
        "    dist = sig(dist)\n",
        "    loss = objective(dist, target.float())\n",
        "    losses.append(loss.item())\n",
        "\n",
        "    scores_t = [[], []]\n",
        "    for d, t in zip(dist, target):\n",
        "      if t == 0:\n",
        "        scores_t[0].append(d.item())\n",
        "      else:\n",
        "        scores_t[1].append(d.item())\n",
        "    scores.append((sum(scores_t[1]) / len(scores_t[1])) - (sum(scores_t[0]) / len(scores_t[0])))\n",
        "\n",
        "  return (sum(losses) / len(losses)), (sum(scores) / len(scores))\n",
        "\n",
        "\n",
        "def scope(train_loader, val_loader, num_classes, epochs=10, learning_rate=1e-4):\n",
        "  model = SiameseNetwork()\n",
        "  objective = nn.BCELoss()\n",
        "  optimizer = optim.Adam(model.parameters(), lr=learning_rate)\n",
        "\n",
        "  gc.collect()\n",
        "  model.cuda()\n",
        "  sig = nn.Sigmoid()\n",
        "\n",
        "  losses = []\n",
        "  diffs = [0]\n",
        "\n",
        "  val_losses = []\n",
        "  val_diffs = []\n",
        "\n",
        "  loop = tqdm(total=(len(train_loader) * epochs), position=0, leave=False)\n",
        "  for epoch in range(epochs):\n",
        "    loss_per_epoch = []\n",
        "    score_per_epoch = []\n",
        "    for i, data in enumerate(train_loader):\n",
        "      img1, img2, target = data\n",
        "      img1, img2, target = img1.cuda(), img2.cuda(), target.cuda()\n",
        "      \n",
        "      optimizer.zero_grad()\n",
        "\n",
        "      out1, out2 = model(img1, img2)\n",
        "      dist = F.pairwise_distance(out1, out2, keepdim=True).squeeze(1)\n",
        "      dist = sig(dist)\n",
        "\n",
        "      loss = objective(dist, target.float())\n",
        "      loss.backward()\n",
        "      optimizer.step()\n",
        "      loss_per_epoch.append(loss.item())\n",
        "      scores = [[], []]\n",
        "      for d, t in zip(dist, target):\n",
        "        if t == 0:\n",
        "          scores[0].append(d.item())\n",
        "        else:\n",
        "          scores[1].append(d.item())\n",
        "      score_per_epoch.append((sum(scores[1]) / len(scores[1])) - (sum(scores[0]) / len(scores[0])))\n",
        "\n",
        "      loop.set_description('Epoch:{}, Loss:{:.4f}, Diff:{:.4f}'.format(epoch, loss.item(), diffs[-1]))\n",
        "      loop.update(1)\n",
        "    diffs.append(sum(score_per_epoch) / len(score_per_epoch))\n",
        "    losses.append(sum(loss_per_epoch) / len(loss_per_epoch))\n",
        "\n",
        "    vl, vd = validate(val_loader, model, objective, sig)\n",
        "    val_losses.append(vl)\n",
        "    val_diffs.append(vd)\n",
        "\n",
        "  plt.plot(losses)\n",
        "  plt.title('Training Losses')\n",
        "  plt.xlabel('Epochs')\n",
        "  plt.ylabel('Loss')\n",
        "  plt.show()\n",
        "\n",
        "  plt.plot(diffs)\n",
        "  plt.title('Training Difference')\n",
        "  plt.xlabel('Epochs')\n",
        "  plt.ylabel('Difference')\n",
        "  plt.show()\n",
        "\n",
        "  plt.plot(val_losses)\n",
        "  plt.title('Validation Losses')\n",
        "  plt.xlabel('Epochs')\n",
        "  plt.ylabel('Loss')\n",
        "  plt.show()\n",
        "\n",
        "  plt.plot(val_diffs)\n",
        "  plt.title('Validation Difference')\n",
        "  plt.xlabel('Epochs')\n",
        "  plt.ylabel('Difference')\n",
        "  plt.show()\n",
        "\n",
        "  return model"
      ],
      "execution_count": 0,
      "outputs": []
    },
    {
      "cell_type": "code",
      "metadata": {
        "id": "nKLw5Gj84g2z",
        "colab_type": "code",
        "outputId": "e9c30782-b94c-4a47-a05b-08c9e4f8581a",
        "colab": {
          "base_uri": "https://localhost:8080/",
          "height": 171,
          "referenced_widgets": [
            "83b5018a2fc848fda256ce4dbf2849a5",
            "3c5631afd26e475ebeb156c946d2a86f",
            "833b1d9f441c4fcb9d39f96fc8278e2c",
            "6700cfc5fc2b4d358a90cd20bb2dfce0",
            "4cb7109fbdda4a4abef52562df5c661e",
            "25419f16a8a844d58dd951a2ebd861ac",
            "6b5ec73c6e2b4a6ea1f6134c7d2f354a",
            "a4eca9948584423e8d04c4394e6d7856",
            "e7c32b46004b4bb2bfa72247984bb056",
            "3618805e0ca74ea0bff68f1cb6148914",
            "b36f643a8738442fab32cc2d4c072d6f",
            "f7ef029b215c4eccaf85843d6061774d",
            "981b2daabbae4ef1bf9c37017838139e",
            "403b7ec9c2d74b74844f2abb048c2161",
            "84310d83674c4dbaa7b1c460414b90d9",
            "4b93c82a64a744e4a75158405854ba87"
          ]
        }
      },
      "source": [
        "batch_size = 128\n",
        "num_classes = 8\n",
        "\n",
        "\n",
        "train_loader, val_loader, test_dataset = cifar10Loaders(batch_size, num_classes)"
      ],
      "execution_count": 8,
      "outputs": [
        {
          "output_type": "stream",
          "text": [
            "Downloading https://www.cs.toronto.edu/~kriz/cifar-10-python.tar.gz to ./data/cifar10/training/cifar-10-python.tar.gz\n"
          ],
          "name": "stdout"
        },
        {
          "output_type": "display_data",
          "data": {
            "application/vnd.jupyter.widget-view+json": {
              "model_id": "83b5018a2fc848fda256ce4dbf2849a5",
              "version_minor": 0,
              "version_major": 2
            },
            "text/plain": [
              "HBox(children=(IntProgress(value=1, bar_style='info', max=1), HTML(value='')))"
            ]
          },
          "metadata": {
            "tags": []
          }
        },
        {
          "output_type": "stream",
          "text": [
            "Extracting ./data/cifar10/training/cifar-10-python.tar.gz to ./data/cifar10/training/\n",
            "Downloading https://www.cs.toronto.edu/~kriz/cifar-10-python.tar.gz to ./data/cifar10/testing/cifar-10-python.tar.gz\n"
          ],
          "name": "stdout"
        },
        {
          "output_type": "display_data",
          "data": {
            "application/vnd.jupyter.widget-view+json": {
              "model_id": "e7c32b46004b4bb2bfa72247984bb056",
              "version_minor": 0,
              "version_major": 2
            },
            "text/plain": [
              "HBox(children=(IntProgress(value=1, bar_style='info', max=1), HTML(value='')))"
            ]
          },
          "metadata": {
            "tags": []
          }
        },
        {
          "output_type": "stream",
          "text": [
            "Extracting ./data/cifar10/testing/cifar-10-python.tar.gz to ./data/cifar10/testing/\n"
          ],
          "name": "stdout"
        }
      ]
    },
    {
      "cell_type": "code",
      "metadata": {
        "id": "4OQhRDDX4g4-",
        "colab_type": "code",
        "outputId": "76ac36ce-2587-4bc9-d79d-d93bb4128601",
        "colab": {
          "base_uri": "https://localhost:8080/",
          "height": 1000
        }
      },
      "source": [
        "model1 = scope(train_loader, val_loader, num_classes, epochs=100)"
      ],
      "execution_count": 9,
      "outputs": [
        {
          "output_type": "stream",
          "text": [
            "Epoch:99, Loss:0.6070, Diff:0.2402: 100%|█████████▉| 31299/31300 [31:33<00:00, 18.47it/s]"
          ],
          "name": "stderr"
        },
        {
          "output_type": "display_data",
          "data": {
            "image/png": "[encoded data removed]",
            "text/plain": [
              "<Figure size 432x288 with 1 Axes>"
            ]
          },
          "metadata": {
            "tags": []
          }
        },
        {
          "output_type": "display_data",
          "data": {
            "image/png": "[encoded data removed]",
            "text/plain": [
              "<Figure size 432x288 with 1 Axes>"
            ]
          },
          "metadata": {
            "tags": []
          }
        },
        {
          "output_type": "display_data",
          "data": {
            "image/png": "[encoded data removed]",
            "text/plain": [
              "<Figure size 432x288 with 1 Axes>"
            ]
          },
          "metadata": {
            "tags": []
          }
        },
        {
          "output_type": "display_data",
          "data": {
            "image/png": "[encoded data removed]",
            "text/plain": [
              "<Figure size 432x288 with 1 Axes>"
            ]
          },
          "metadata": {
            "tags": []
          }
        }
      ]
    },
    {
      "cell_type": "code",
      "metadata": {
        "id": "iSABXSsu4g7O",
        "colab_type": "code",
        "colab": {}
      },
      "source": [
        "def getObjectDB(data, num_classes):\n",
        "  obj_db = []\n",
        "  tens_trans = transforms.ToTensor()\n",
        "  for i in range(num_classes):\n",
        "    obj_db.append(data.getItemByClass(i))\n",
        "  return obj_db\n",
        "\n",
        "def testAccuracy(model, data, tests=2):\n",
        "  trans_PIL = transforms.ToPILImage()\n",
        "\n",
        "  object_db = getObjectDB(data, 10)\n",
        "  sig = nn.Sigmoid()\n",
        "  right = 0\n",
        "\n",
        "  for i in range(tests):\n",
        "    num = np.random.randint(8)\n",
        "    img1 = data.getItemByClass(num)\n",
        "    img1 = torch.cat((img1.unsqueeze(0), img1.unsqueeze(0)))\n",
        "    scores = []\n",
        "\n",
        "    for i in range(len(object_db)):\n",
        "      img2 = torch.cat((object_db[i].unsqueeze(0), object_db[i].unsqueeze(0)))\n",
        "      img1, img2 = img1.cuda(), img2.cuda()\n",
        "      out1, out2 = model(img1, img2)\n",
        "      print(out1[0][0].item())\n",
        "      dist = F.pairwise_distance(out1, out2, keepdim=True).squeeze(1)\n",
        "      dist = sig(dist)\n",
        "      scores.append(dist[0].item())\n",
        "    print(scores)\n",
        "      \n",
        "  print('Objects Trained on Accuracy')\n",
        "  print(right / tests)\n",
        "\n",
        "\n",
        "  # for i in range(tests):\n",
        "  #   num = np.random.randint(9,10)\n",
        "  #   img = data.getItemByClass(num).cuda()\n",
        "  #   out1 = model.vectorize(img.unsqueeze(0))\n",
        "  #   guess = -1\n",
        "  #   guess_dist = 10\n",
        "  #   for i in range(len(object_db)):\n",
        "  #     out2 = model.vectorize(object_db[i].unsqueeze(0).cuda())\n",
        "  #     dist = F.pairwise_distance(out1, out2, keepdim=True).squeeze(1)\n",
        "  #     dist = sig(dist)[0]\n",
        "\n",
        "  #     if dist < guess_dist:\n",
        "  #       guess_dist = dist\n",
        "  #       guess = i\n",
        "  #   if guess == num:\n",
        "  #     right += 1\n",
        "  # print('Objects Not Trained on Accuracy')\n",
        "  # print(right / tests)\n",
        "\n"
      ],
      "execution_count": 0,
      "outputs": []
    },
    {
      "cell_type": "code",
      "metadata": {
        "id": "BzN0FS1t4hAN",
        "colab_type": "code",
        "outputId": "fad0c57b-9eec-4d8f-f2e6-ec2cca86931f",
        "colab": {
          "base_uri": "https://localhost:8080/",
          "height": 459
        }
      },
      "source": [
        "test_model = SiameseNetwork().cuda()\n",
        "# testAccuracy(test_model, test_dataset)\n",
        "testAccuracy(test_model, test_dataset)"
      ],
      "execution_count": 0,
      "outputs": [
        {
          "output_type": "stream",
          "text": [
            "0.0\n",
            "0.0\n",
            "0.0\n",
            "0.0\n",
            "0.0\n",
            "0.0\n",
            "0.0\n",
            "0.0\n",
            "0.0\n",
            "0.0\n",
            "[0.5000039935112, 0.5000039935112, 0.5000039935112, 0.5000039935112, 0.5000039935112, 0.5000039935112, 0.5000039935112, 0.5000039935112, 0.5000039935112, 0.5000039935112]\n",
            "0.0\n",
            "0.0\n",
            "0.0\n",
            "0.0\n",
            "0.0\n",
            "0.0\n",
            "0.0\n",
            "0.0\n",
            "0.0\n",
            "0.0\n",
            "[0.5000039935112, 0.5000039935112, 0.5000039935112, 0.5000039935112, 0.5000039935112, 0.5000039935112, 0.5000039935112, 0.5000039935112, 0.5000039935112, 0.5000039935112]\n",
            "Objects Trained on Accuracy\n",
            "0.0\n"
          ],
          "name": "stdout"
        }
      ]
    },
    {
      "cell_type": "code",
      "metadata": {
        "id": "TQ3QfqCx4hDF",
        "colab_type": "code",
        "colab": {}
      },
      "source": [
        ""
      ],
      "execution_count": 0,
      "outputs": []
    },
    {
      "cell_type": "code",
      "metadata": {
        "id": "KusVPqco4hFi",
        "colab_type": "code",
        "colab": {}
      },
      "source": [
        ""
      ],
      "execution_count": 0,
      "outputs": []
    },
    {
      "cell_type": "code",
      "metadata": {
        "id": "KwGoKWzz4hIM",
        "colab_type": "code",
        "colab": {}
      },
      "source": [
        ""
      ],
      "execution_count": 0,
      "outputs": []
    },
    {
      "cell_type": "code",
      "metadata": {
        "id": "XeyXjr9V4hLU",
        "colab_type": "code",
        "colab": {}
      },
      "source": [
        ""
      ],
      "execution_count": 0,
      "outputs": []
    }
  ]
}